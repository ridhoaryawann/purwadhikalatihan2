{
 "cells": [
  {
   "cell_type": "code",
   "execution_count": null,
   "metadata": {},
   "outputs": [
    {
     "name": "stdout",
     "output_type": "stream",
     "text": [
      "Angka 32897 tergolong bilangan ganjil\n"
     ]
    }
   ],
   "source": [
    "#Latihan p. 64 https://docs.google.com/presentation/d/1GZHmHKUEL4g79ZGpXCxK6LUhbDeb-KjC/edit#slide=id.p64\n",
    "\n",
    "#Q1\n",
    "angka1 = input(f'masukkan angka: ')\n",
    "angka = int(angka1)\n",
    "\n",
    "if angka % 2 == 0:\n",
    "    print(f\"Angka {angka} tergolong bilangan genap\")\n",
    "else:\n",
    "    print (f\"Angka {angka} tergolong bilangan ganjil\")\n"
   ]
  },
  {
   "cell_type": "code",
   "execution_count": null,
   "metadata": {},
   "outputs": [
    {
     "name": "stdout",
     "output_type": "stream",
     "text": [
      "Massa anda 30, Tinggi anda 200\n",
      "7.5, berat badan anda Berat badan kurang\n"
     ]
    }
   ],
   "source": [
    "#Q2\n",
    "\n",
    "massa = int(input(f'masukkan berat anda dalam kg: '))\n",
    "tinggi = int(input(f'masukkan tinggi anda dalam cm: '))\n",
    "\n",
    "IMT = massa /(tinggi/100)**2\n",
    "\n",
    "if IMT < 18.5:\n",
    "    hasil = 'Berat badan kurang'\n",
    "elif 18.5 <= IMT <= 24.9:\n",
    "    hasil = 'Berat badan ideal'\n",
    "elif 25 <= IMT <= 29.9:\n",
    "    hasil = 'Berat badan berlebih'\n",
    "elif 30 <= IMT <= 39.9:\n",
    "    hasil = 'Berat badan sangat berlebih'\n",
    "else: \n",
    "    hasil = 'obesitas'\n",
    "\n",
    "#HIMT = round(IMT,5)\n",
    "\n",
    "print(f'Massa anda {massa}, Tinggi anda {tinggi}')\n",
    "print(f'{IMT}, berat badan anda {hasil}')\n",
    "\n"
   ]
  },
  {
   "cell_type": "code",
   "execution_count": null,
   "metadata": {},
   "outputs": [],
   "source": [
    "#Q3\n",
    "\n",
    "\n"
   ]
  },
  {
   "cell_type": "code",
   "execution_count": 1,
   "metadata": {},
   "outputs": [
    {
     "data": {
      "text/plain": [
       "3"
      ]
     },
     "execution_count": 1,
     "metadata": {},
     "output_type": "execute_result"
    }
   ],
   "source": [
    "#Exercise Day 3\n",
    "\n",
    "#Q1\n",
    "\n",
    "# input: \n",
    "spam = 'ababaababbbbcccbabcc'\n",
    "word = 'bab'\n",
    "\n",
    "count = 0\n",
    "for i in range(len(spam)):\n",
    "    if spam[i:i+3] == word:\n",
    "        count += 1\n",
    "\n",
    "count\n",
    "    \n",
    "         \n",
    "# output:\n",
    "#'Appeard 3 times'\n",
    "\n"
   ]
  },
  {
   "cell_type": "code",
   "execution_count": null,
   "metadata": {},
   "outputs": [
    {
     "data": {
      "text/plain": [
       "5"
      ]
     },
     "execution_count": 40,
     "metadata": {},
     "output_type": "execute_result"
    }
   ],
   "source": [
    "#Q1\n",
    "\n",
    "# input: \n",
    "spam = 'ababaababbbbcccbabcc'\n",
    "word = 'ab'\n",
    "\n",
    "count = 0\n",
    "for i in range(len(spam)):\n",
    "    if spam[i:i+2] == word:\n",
    "        count += 1\n",
    "\n",
    "count\n",
    "    "
   ]
  },
  {
   "cell_type": "code",
   "execution_count": null,
   "metadata": {},
   "outputs": [
    {
     "data": {
      "text/plain": [
       "3"
      ]
     },
     "execution_count": 41,
     "metadata": {},
     "output_type": "execute_result"
    }
   ],
   "source": [
    "#Q1\n",
    "\n",
    "# input: \n",
    "spam = 'ababaababbbbcccbabcc'\n",
    "word = 'bb'\n",
    "\n",
    "count = 0\n",
    "for i in range(len(spam)):\n",
    "    if spam[i:i+2] == word:\n",
    "        count += 1\n",
    "\n",
    "count"
   ]
  },
  {
   "cell_type": "code",
   "execution_count": null,
   "metadata": {},
   "outputs": [
    {
     "data": {
      "text/plain": [
       "False"
      ]
     },
     "execution_count": 70,
     "metadata": {},
     "output_type": "execute_result"
    }
   ],
   "source": [
    "# input:\n",
    "spam = 'oOoxxxxX'\n",
    "\n",
    "ouo = 'o'\n",
    "xbx = 'x'\n",
    "\n",
    "XOXO = 0 \n",
    "for i in (spam): \n",
    "    if i == xbx: \n",
    "        XOXO += 1\n",
    "    \n",
    "WOWO = 0 \n",
    "for i in (spam): \n",
    "    if i == ouo: \n",
    "        WOWO += 1\n",
    "\n",
    "XOXO == WOWO\n",
    "\n"
   ]
  },
  {
   "cell_type": "code",
   "execution_count": 84,
   "metadata": {},
   "outputs": [
    {
     "name": "stdout",
     "output_type": "stream",
     "text": [
      "angkamu 153 adalah angka narsis\n"
     ]
    }
   ],
   "source": [
    "#Q4\n",
    "# input:\n",
    "#spam = 153\n",
    "\n",
    "# output:\n",
    "#'153 is narcissistic number'\n",
    "\n",
    "#'''A narcissistic number are numbers \n",
    "#that can be represented by some kind of mathematical manipulation of their digits.\n",
    "# A whole number, or integer, \n",
    "#that is the sum of the nth powers of its digits (e.g., 153 = 1**3+ 5**3+ 3**3).'''\n",
    "\n",
    "\n",
    "#153 = 1**3+ 5**3+ 3**3\n",
    "\n",
    "tes = str(input(f'please input a number: '))\n",
    "\n",
    "yah = 0\n",
    "\n",
    "for i in (tes):\n",
    "    yah += int(i) ** int(len(tes))  \n",
    "\n",
    "if int(tes) == int(yah):\n",
    "    print (f'angkamu {int(tes)} adalah angka narsis' )\n",
    "else:\n",
    "    print (f'angkamu {int(tes)} BUKAN angka narsis' )"
   ]
  },
  {
   "cell_type": "code",
   "execution_count": 17,
   "metadata": {},
   "outputs": [
    {
     "name": "stdout",
     "output_type": "stream",
     "text": [
      "FizzBuzz\n",
      "1\n",
      "2\n",
      "fizz\n",
      "4\n",
      "buzz\n",
      "fizz\n",
      "7\n",
      "8\n",
      "fizz\n",
      "buzz\n",
      "11\n",
      "fizz\n",
      "13\n",
      "14\n",
      "FizzBuzz\n"
     ]
    }
   ],
   "source": [
    "# Prints `Fizz` if the number is only divisible by 3.\n",
    "# Prints `FizzBuzz` if the number is divisible by 3 and 5.\n",
    "# Prints `Buzz` if the number is only divisible by 5.\n",
    "# Prints the number if the number is neither divisible by 3 nor 5.\n",
    "\n",
    "# input\n",
    "nomornya = int(input (f'Enter a number greater than 0 or quit: '))\n",
    "\n",
    "for i in range(0,nomornya): \n",
    "    if i %3 == 0 and i %5 == 0:\n",
    "        print ('FizzBuzz')\n",
    "    elif i % 3 == 0:\n",
    "        print ('fizz')\n",
    "    elif i % 5 == 0:\n",
    "        print ('buzz') \n",
    "    else: \n",
    "        print (i)\n",
    "\n",
    "    "
   ]
  },
  {
   "cell_type": "code",
   "execution_count": 113,
   "metadata": {},
   "outputs": [
    {
     "name": "stdout",
     "output_type": "stream",
     "text": [
      "the fox and the fox\n"
     ]
    }
   ],
   "source": [
    "# input\n",
    "# text = 'The Fox and fox.'\n",
    "\n",
    "# output\n",
    "oldtext = 'fox' \n",
    "newtext = 'dog'\n",
    "\n",
    "text = input (f'masukkan katanya: ')\n",
    "\n",
    "for i in range(len(text)):\n",
    "    if text[i:i+len(oldtext)] == oldtext:\n",
    "        text[i:i+len(oldtext)].replace(oldtext, newtext)\n",
    " \n",
    "print (text)\n",
    "\n"
   ]
  },
  {
   "cell_type": "code",
   "execution_count": 24,
   "metadata": {},
   "outputs": [
    {
     "ename": "ValueError",
     "evalue": "invalid literal for int() with base 10: ''",
     "output_type": "error",
     "traceback": [
      "\u001b[1;31m---------------------------------------------------------------------------\u001b[0m",
      "\u001b[1;31mValueError\u001b[0m                                Traceback (most recent call last)",
      "Cell \u001b[1;32mIn[24], line 3\u001b[0m\n\u001b[0;32m      1\u001b[0m \u001b[38;5;66;03m#bikin kotak\u001b[39;00m\n\u001b[1;32m----> 3\u001b[0m lebar \u001b[38;5;241m=\u001b[39m \u001b[38;5;28;43mint\u001b[39;49m\u001b[43m(\u001b[49m\u001b[38;5;28;43minput\u001b[39;49m\u001b[43m(\u001b[49m\u001b[38;5;124;43m'\u001b[39;49m\u001b[38;5;124;43mmasukkan lebar:\u001b[39;49m\u001b[38;5;124;43m'\u001b[39;49m\u001b[43m)\u001b[49m\u001b[43m)\u001b[49m\n\u001b[0;32m      4\u001b[0m tinggi \u001b[38;5;241m=\u001b[39m \u001b[38;5;28mint\u001b[39m(\u001b[38;5;28minput\u001b[39m (\u001b[38;5;124m'\u001b[39m\u001b[38;5;124mmasukkan tinggi:\u001b[39m\u001b[38;5;124m'\u001b[39m))\n\u001b[0;32m      5\u001b[0m garis \u001b[38;5;241m=\u001b[39m \u001b[38;5;28minput\u001b[39m (\u001b[38;5;124m'\u001b[39m\u001b[38;5;124mmasukkan simbol garis:\u001b[39m\u001b[38;5;124m'\u001b[39m)\n",
      "\u001b[1;31mValueError\u001b[0m: invalid literal for int() with base 10: ''"
     ]
    }
   ],
   "source": [
    "#bikin kotak\n",
    "\n",
    "lebar = int(input('masukkan lebar:'))\n",
    "tinggi = int(input ('masukkan tinggi:'))\n",
    "garis = input ('masukkan simbol garis:')\n",
    "\n",
    "for x in range(lebar):\n",
    "    for y in range (tinggi):\n",
    "        print (garis,end=\" \")\n",
    "    print()\n",
    "\n",
    "\n"
   ]
  },
  {
   "cell_type": "code",
   "execution_count": 60,
   "metadata": {},
   "outputs": [
    {
     "name": "stdout",
     "output_type": "stream",
     "text": [
      " nomor anda 26 sedang kami hitung \n",
      " 13.0\n",
      " 13.0\n",
      " 40.0\n",
      " 20.0\n",
      " 20.0\n",
      " 10.0\n",
      " 10.0\n",
      " 5.0\n",
      " 5.0\n",
      " 16.0\n",
      " 8.0\n",
      " 8.0\n",
      " 4.0\n",
      " 4.0\n",
      " 2.0\n",
      " 2.0\n",
      " 1.0\n",
      " 1.0\n",
      "1.0"
     ]
    }
   ],
   "source": [
    "#Q6\n",
    "\n",
    "while True:\n",
    "    nomor = int(input(f'Enter a starting number (greater than 0) or lower than 26: '))\n",
    "    if nomor > 26:\n",
    "        print (f' nomor anda {nomor} berlebih. silahkan masukkan ulang nomor anda')\n",
    "        break\n",
    "    else:\n",
    "        print (f' nomor anda {nomor} sedang kami hitung ')\n",
    "        break\n",
    "\n",
    "nambahin = nomor\n",
    "while True:\n",
    "    if nomor == 1:\n",
    "        break\n",
    "    elif nomor % 2 == 0:\n",
    "        nomor /= 2\n",
    "        print (f' {nomor}')\n",
    "    else: nomor =+ (nomor*3) + 1\n",
    "    print (f' {nomor}')\n",
    "    nambahin == nomor\n",
    "\n",
    "for i in range(int(nomor)):\n",
    "    print(nomor, end='')\n",
    "    if nomor == 1:\n",
    "        break\n",
    "\n",
    "\n",
    "\n",
    "# If *n* is `even`, the next number *n* is *n* / 2.\n",
    "# If *n* is `odd`, the next number *n* is *n* * 3 + 1.\n",
    "# If *n* is `1`, stop. Otherwise, repeat.\n",
    "\n"
   ]
  },
  {
   "cell_type": "code",
   "execution_count": 63,
   "metadata": {},
   "outputs": [
    {
     "name": "stdout",
     "output_type": "stream",
     "text": [
      "26, 13, 40, 20, 10, 5, 16, 8, 4, 2, 1, \n"
     ]
    }
   ],
   "source": [
    "while True:\n",
    "    input_number = input(\"Enter a starting number (greater than 0) or QUIT: \")\n",
    "    \n",
    "    if input_number.upper() == 'QUIT':\n",
    "        break\n",
    "    \n",
    "    nomor = int(input_number)\n",
    "    \n",
    "    if nomor <= 0:\n",
    "        print(\"Please enter a number greater than 0.\")\n",
    "        continue\n",
    "    \n",
    "    while nomor != 1:\n",
    "        if nomor % 2 == 0:\n",
    "            nomor /= 2\n",
    "        else:\n",
    "            nomor = (nomor * 3) + 1\n",
    "    \n",
    "    for i in range(len(sequence)):\n",
    "        print(sequence[i], end=\", \")\n",
    "    print() "
   ]
  },
  {
   "cell_type": "code",
   "execution_count": 79,
   "metadata": {},
   "outputs": [
    {
     "ename": "ValueError",
     "evalue": "invalid literal for int() with base 10: ''",
     "output_type": "error",
     "traceback": [
      "\u001b[1;31m---------------------------------------------------------------------------\u001b[0m",
      "\u001b[1;31mValueError\u001b[0m                                Traceback (most recent call last)",
      "Cell \u001b[1;32mIn[79], line 8\u001b[0m\n\u001b[0;32m      5\u001b[0m \u001b[38;5;28;01mif\u001b[39;00m nomor1 \u001b[38;5;241m==\u001b[39m \u001b[38;5;124m'\u001b[39m\u001b[38;5;124mQUIT\u001b[39m\u001b[38;5;124m'\u001b[39m:\n\u001b[0;32m      6\u001b[0m     \u001b[38;5;28;01mbreak\u001b[39;00m\n\u001b[1;32m----> 8\u001b[0m fibonaci \u001b[38;5;241m=\u001b[39m \u001b[38;5;28;43mint\u001b[39;49m\u001b[43m(\u001b[49m\u001b[43mnomor1\u001b[49m\u001b[43m)\u001b[49m\n\u001b[0;32m     10\u001b[0m \u001b[38;5;28;01mif\u001b[39;00m fibonaci \u001b[38;5;241m<\u001b[39m\u001b[38;5;241m=\u001b[39m \u001b[38;5;241m0\u001b[39m:\n\u001b[0;32m     11\u001b[0m     \u001b[38;5;28mprint\u001b[39m (\u001b[38;5;124mf\u001b[39m\u001b[38;5;124m'\u001b[39m\u001b[38;5;124m please input number more than 0: \u001b[39m\u001b[38;5;124m'\u001b[39m)\n",
      "\u001b[1;31mValueError\u001b[0m: invalid literal for int() with base 10: ''"
     ]
    }
   ],
   "source": [
    "#Q7\n",
    "while True:\n",
    "    nomor1 = input(f'Enter the Nth Fibonacci number you wish to calculate or QUIT to quit: ')\n",
    "    \n",
    "    if nomor1 == 'QUIT':\n",
    "        break\n",
    "\n",
    "    fibonaci = int(nomor1)\n",
    "\n",
    "    if fibonaci <= 0:\n",
    "        print (f' please input number more than 0: ')\n",
    "        break\n",
    "    else: \n",
    "        continue\n",
    "\n",
    "    fibonacinya = [0, 1]\n",
    "\n",
    "    while len(fibonacinya) <= fibonaci:\n",
    "        nomorlanjutan = fibonacinya[-1] + fibonacinya[-2]\n",
    "        fibonacinya += [nomorlanjutan]\n",
    "        if nomorlanjutan > 50:\n",
    "            break\n",
    "\n",
    "    print(\"deret fibonaci:\", fibonacinya[1:])\n",
    "\n",
    "    \n"
   ]
  },
  {
   "cell_type": "code",
   "execution_count": 82,
   "metadata": {},
   "outputs": [
    {
     "name": "stdout",
     "output_type": "stream",
     "text": [
      "deret fibonaci: [1]\n",
      "deret fibonaci: [1, 1]\n",
      "deret fibonaci: [1, 1, 2]\n",
      "deret fibonaci: [1, 1, 2, 3]\n"
     ]
    },
    {
     "ename": "ValueError",
     "evalue": "invalid literal for int() with base 10: ''",
     "output_type": "error",
     "traceback": [
      "\u001b[1;31m---------------------------------------------------------------------------\u001b[0m",
      "\u001b[1;31mValueError\u001b[0m                                Traceback (most recent call last)",
      "Cell \u001b[1;32mIn[82], line 7\u001b[0m\n\u001b[0;32m      4\u001b[0m \u001b[38;5;28;01mif\u001b[39;00m nomor1 \u001b[38;5;241m==\u001b[39m \u001b[38;5;124m'\u001b[39m\u001b[38;5;124mQUIT\u001b[39m\u001b[38;5;124m'\u001b[39m:\n\u001b[0;32m      5\u001b[0m     \u001b[38;5;28;01mbreak\u001b[39;00m\n\u001b[1;32m----> 7\u001b[0m fibonaci \u001b[38;5;241m=\u001b[39m \u001b[38;5;28;43mint\u001b[39;49m\u001b[43m(\u001b[49m\u001b[43mnomor1\u001b[49m\u001b[43m)\u001b[49m\n\u001b[0;32m      9\u001b[0m \u001b[38;5;28;01mif\u001b[39;00m fibonaci \u001b[38;5;241m<\u001b[39m\u001b[38;5;241m=\u001b[39m \u001b[38;5;241m0\u001b[39m:\n\u001b[0;32m     10\u001b[0m     \u001b[38;5;28mprint\u001b[39m (\u001b[38;5;124mf\u001b[39m\u001b[38;5;124m'\u001b[39m\u001b[38;5;124m please input number more than 0: \u001b[39m\u001b[38;5;124m'\u001b[39m)\n",
      "\u001b[1;31mValueError\u001b[0m: invalid literal for int() with base 10: ''"
     ]
    }
   ],
   "source": [
    "while True:\n",
    "    nomor1 = input(f'Enter the Nth Fibonacci number you wish to calculate or QUIT to quit: ')\n",
    "    \n",
    "    if nomor1 == 'QUIT':\n",
    "        break\n",
    "\n",
    "    fibonaci = int(nomor1)\n",
    "\n",
    "    if fibonaci <= 0:\n",
    "        print (f' please input number more than 0: ')\n",
    "        continue\n",
    "\n",
    "    fibonacinya = [0, 1]\n",
    "\n",
    "    while len(fibonacinya) <= fibonaci:\n",
    "        nomorlanjutan = fibonacinya[-1] + fibonacinya[-2]\n",
    "        fibonacinya += [nomorlanjutan]\n",
    "        \n",
    "    if nomorlanjutan > 50:\n",
    "         break\n",
    "\n",
    "    print(\"deret fibonaci:\", fibonacinya[1:])"
   ]
  }
 ],
 "metadata": {
  "kernelspec": {
   "display_name": "Python 3",
   "language": "python",
   "name": "python3"
  },
  "language_info": {
   "codemirror_mode": {
    "name": "ipython",
    "version": 3
   },
   "file_extension": ".py",
   "mimetype": "text/x-python",
   "name": "python",
   "nbconvert_exporter": "python",
   "pygments_lexer": "ipython3",
   "version": "3.12.1"
  }
 },
 "nbformat": 4,
 "nbformat_minor": 2
}
